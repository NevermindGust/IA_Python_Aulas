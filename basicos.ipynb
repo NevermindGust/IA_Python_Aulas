{
  "nbformat": 4,
  "nbformat_minor": 0,
  "metadata": {
    "colab": {
      "provenance": [],
      "authorship_tag": "ABX9TyOb/ceGULYkdLJN4GRknVpC",
      "include_colab_link": true
    },
    "kernelspec": {
      "name": "python3",
      "display_name": "Python 3"
    },
    "language_info": {
      "name": "python"
    }
  },
  "cells": [
    {
      "cell_type": "markdown",
      "metadata": {
        "id": "view-in-github",
        "colab_type": "text"
      },
      "source": [
        "<a href=\"https://colab.research.google.com/github/NevermindGust/IA_Python_Aulas/blob/main/basicos.ipynb\" target=\"_parent\"><img src=\"https://colab.research.google.com/assets/colab-badge.svg\" alt=\"Open In Colab\"/></a>"
      ]
    },
    {
      "cell_type": "code",
      "execution_count": 19,
      "metadata": {
        "colab": {
          "base_uri": "https://localhost:8080/"
        },
        "id": "hq2tHs1hhku1",
        "outputId": "74b2a0ce-0162-4711-8767-bcaa6b3f247d"
      },
      "outputs": [
        {
          "output_type": "stream",
          "name": "stdout",
          "text": [
            "numero de caixas = 7\n",
            "<class 'int'>\n",
            "preço das caixas = 2.2\n",
            "<class 'float'>\n",
            "caixas+- = 10\n",
            "caixas*= = 20\n",
            "preço final = 44.0\n"
          ]
        }
      ],
      "source": [
        "caixas=7\n",
        "print(\"numero de caixas =\", caixas)\n",
        "print(type (caixas))\n",
        "\n",
        "preco_caixas=2.2\n",
        "print(\"preço das caixas =\", preco_caixas)\n",
        "print(type(preco_caixas))\n",
        "\n",
        "caixas+=3\n",
        "print(\"caixas+- =\", caixas)\n",
        "caixas*=2\n",
        "print(\"caixas*= =\", caixas)\n",
        "caixas==7\n",
        "\n",
        "valor_final = caixas * preco_produto\n",
        "print(\"preço final =\", valor_final)\n"
      ]
    }
  ]
}