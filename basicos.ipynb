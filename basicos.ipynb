{
  "nbformat": 4,
  "nbformat_minor": 0,
  "metadata": {
    "colab": {
      "provenance": [],
      "authorship_tag": "ABX9TyM0PtQ98g+UiaH1TR+ztdaK",
      "include_colab_link": true
    },
    "kernelspec": {
      "name": "python3",
      "display_name": "Python 3"
    },
    "language_info": {
      "name": "python"
    }
  },
  "cells": [
    {
      "cell_type": "markdown",
      "metadata": {
        "id": "view-in-github",
        "colab_type": "text"
      },
      "source": [
        "<a href=\"https://colab.research.google.com/github/NevermindGust/IA_Python_Aulas/blob/main/basicos.ipynb\" target=\"_parent\"><img src=\"https://colab.research.google.com/assets/colab-badge.svg\" alt=\"Open In Colab\"/></a>"
      ]
    },
    {
      "cell_type": "code",
      "source": [
        "#teste input\n",
        "nome = input(\"Digite seu nome: \")\n",
        "print(\"Bem vindo\", nome)"
      ],
      "metadata": {
        "id": "_e2Vy0BXvBZy"
      },
      "execution_count": null,
      "outputs": []
    },
    {
      "cell_type": "code",
      "execution_count": null,
      "metadata": {
        "id": "hq2tHs1hhku1"
      },
      "outputs": [],
      "source": [
        "#variaveis e print\n",
        "caixas=7\n",
        "print(\"numero de caixas =\", caixas)\n",
        "print(type (caixas))\n",
        "\n",
        "preco_caixas=2.2\n",
        "print(\"preço da caixa =\", preco_caixas)\n",
        "print(type(preco_caixas))\n",
        "\n",
        "caixas+=3\n",
        "print(\"caixas+- =\", caixas)\n",
        "caixas*=2\n",
        "print(\"caixas*= =\", caixas)\n",
        "caixas==7\n",
        "\n",
        "valor_final = caixas * preco_caixas\n",
        "print(\"preço final =\", valor_final)\n"
      ]
    },
    {
      "cell_type": "code",
      "source": [
        "#boolean\n",
        "t=True\n",
        "f=False\n",
        "\n",
        "print (type(t))\n",
        "print (\"teste AND -\", t and f)\n",
        "print (\"teste OR -\", t or f)\n",
        "print (\"teste NOR -\", not t)\n",
        "print (\"teste XOR -\", t != f) #XOR = diferente"
      ],
      "metadata": {
        "id": "-i7Avn9zy1Ly"
      },
      "execution_count": null,
      "outputs": []
    },
    {
      "cell_type": "code",
      "source": [
        "#função soma\n",
        "def soma(a, b):\n",
        "  c = a+b\n",
        "  return c\n",
        "\n",
        "soma(7, 18)"
      ],
      "metadata": {
        "id": "WVbuqbNd1EUx"
      },
      "execution_count": null,
      "outputs": []
    },
    {
      "cell_type": "code",
      "source": [
        "#função leitura\n",
        "def leitura():\n",
        "  nome=input(\"digite seu primeiro nome:\")\n",
        "  sobrenome=input(\"digite seu sobrenome:\")\n",
        "  nome_completo= (nome+ \" \" +sobrenome)\n",
        "  print (\"Seu nome completo é:\", nome_completo)\n",
        "\n",
        "leitura()"
      ],
      "metadata": {
        "id": "ccuTrY3R3stw"
      },
      "execution_count": null,
      "outputs": []
    },
    {
      "cell_type": "code",
      "source": [
        "#função potencia\n",
        "def potencia(a, b):\n",
        "  c = a**b\n",
        "  return c\n",
        "\n",
        "a=int(input(\"digite sua base:\"))\n",
        "b=int(input(\"digite seu exponencial:\"))\n",
        "\n",
        "potencia(a, b)\n"
      ],
      "metadata": {
        "id": "u7V7Qfmr3zFv"
      },
      "execution_count": null,
      "outputs": []
    },
    {
      "cell_type": "code",
      "source": [
        "#calcula area de um triangulo\n",
        "\n",
        "def areatriangulo(b, h):\n",
        "  a = (b*h)/2\n",
        "  return a\n",
        "\n",
        "b=float(input(\"Digite o valor da base do seu triangulo:\"))\n",
        "h=float(input(\"Digite a altura do seu triangulo:\"))\n",
        "\n",
        "areatriangulo(b, h)"
      ],
      "metadata": {
        "id": "7t6I-uiQ4ohj"
      },
      "execution_count": null,
      "outputs": []
    },
    {
      "cell_type": "code",
      "source": [
        "#calculadora basica ***em progresso***\n",
        "\n",
        "def soma(x, y):\n",
        "  som = (x+y)\n",
        "  return som\n",
        "\n",
        "def subtracao(x, y):\n",
        "  sub = (x-y)\n",
        "  return sub\n",
        "\n",
        "def multi(x, y):\n",
        "  mult = (x*y)\n",
        "  return mult\n",
        "\n",
        "def divisao(x, y):\n",
        "  div = (x/y)\n",
        "  return div\n",
        "\n",
        "operacao=int(input(\"Escolha a operacao que deseja realizar: 1-Soma, 2-Subtracao, 3-Multiplicacao, 4-Divisao\"))\n",
        "\n",
        "x = float(input(\"Digite num1:\"))\n",
        "y = float(input(\"Digite num2:\"))\n",
        "\n",
        "if operacao == 1:\n",
        "  soma(x,y)\n",
        "\n"
      ],
      "metadata": {
        "colab": {
          "base_uri": "https://localhost:8080/"
        },
        "id": "DLxjIKwW6DWt",
        "outputId": "562ac0b7-f738-4990-b2c5-7f278cf73008"
      },
      "execution_count": 9,
      "outputs": [
        {
          "name": "stdout",
          "output_type": "stream",
          "text": [
            "Escolha a operacao que deseja realizar: 1-Soma, 2-Subtracao, 3-Multiplicacao, 4-Divisao1\n",
            "Digite num1:40\n",
            "Digite num2:50\n"
          ]
        }
      ]
    }
  ]
}