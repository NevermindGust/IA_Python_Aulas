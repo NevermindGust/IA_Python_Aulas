{
  "nbformat": 4,
  "nbformat_minor": 0,
  "metadata": {
    "colab": {
      "provenance": [],
      "authorship_tag": "ABX9TyPRahU1FFUhiNFsR/6VLmV1",
      "include_colab_link": true
    },
    "kernelspec": {
      "name": "python3",
      "display_name": "Python 3"
    },
    "language_info": {
      "name": "python"
    }
  },
  "cells": [
    {
      "cell_type": "markdown",
      "metadata": {
        "id": "view-in-github",
        "colab_type": "text"
      },
      "source": [
        "<a href=\"https://colab.research.google.com/github/NevermindGust/IA_Python_Aulas/blob/main/numpy.ipynb\" target=\"_parent\"><img src=\"https://colab.research.google.com/assets/colab-badge.svg\" alt=\"Open In Colab\"/></a>"
      ]
    },
    {
      "cell_type": "code",
      "execution_count": 1,
      "metadata": {
        "id": "TkKOVdzCmMaw"
      },
      "outputs": [],
      "source": [
        "import numpy as np"
      ]
    },
    {
      "cell_type": "code",
      "source": [
        "#cria matriz unidimencional - X\n",
        "a = np.array([12, 34, 26, 18, 10])\n",
        "print(a)\n",
        "#indica o tipo da matriz\n",
        "print(a.dtype)"
      ],
      "metadata": {
        "colab": {
          "base_uri": "https://localhost:8080/"
        },
        "id": "1HV5sTZRx_d5",
        "outputId": "f470c5ef-d545-4c12-f046-bee074b2aa2f"
      },
      "execution_count": 2,
      "outputs": [
        {
          "output_type": "stream",
          "name": "stdout",
          "text": [
            "[12 34 26 18 10]\n",
            "int64\n"
          ]
        }
      ]
    },
    {
      "cell_type": "code",
      "source": [
        "#cria matriz bidimencional - X e Y\n",
        "b = np.array([[7, 2, 23], [12, 27, 4], [5, 34, 23]])\n",
        "print(b)"
      ],
      "metadata": {
        "colab": {
          "base_uri": "https://localhost:8080/"
        },
        "id": "-TM8EIejx_c3",
        "outputId": "aaf0bc3d-b27e-4897-b88e-f0c2d90360df"
      },
      "execution_count": 3,
      "outputs": [
        {
          "output_type": "stream",
          "name": "stdout",
          "text": [
            "[[ 7  2 23]\n",
            " [12 27  4]\n",
            " [ 5 34 23]]\n"
          ]
        }
      ]
    },
    {
      "cell_type": "code",
      "source": [
        "c = np.zeros([4, 3])\n",
        "print(c)"
      ],
      "metadata": {
        "colab": {
          "base_uri": "https://localhost:8080/"
        },
        "id": "9eQGPPpv0VPJ",
        "outputId": "40efbccc-6e9e-4951-a97c-975b09b8ce8b"
      },
      "execution_count": 4,
      "outputs": [
        {
          "output_type": "stream",
          "name": "stdout",
          "text": [
            "[[0. 0. 0.]\n",
            " [0. 0. 0.]\n",
            " [0. 0. 0.]\n",
            " [0. 0. 0.]]\n"
          ]
        }
      ]
    },
    {
      "cell_type": "code",
      "source": [
        "#cria matriz zerada com '1' na diagonal principal\n",
        "d = np.eye(3)\n",
        "print(d)"
      ],
      "metadata": {
        "colab": {
          "base_uri": "https://localhost:8080/"
        },
        "id": "J0xR3WwS0g6_",
        "outputId": "e0cb3410-c93d-4e16-e2f3-e7fdb7f25442"
      },
      "execution_count": 5,
      "outputs": [
        {
          "output_type": "stream",
          "name": "stdout",
          "text": [
            "[[1. 0. 0.]\n",
            " [0. 1. 0.]\n",
            " [0. 0. 1.]]\n"
          ]
        }
      ]
    },
    {
      "cell_type": "code",
      "source": [
        "#gerar matriz com numeros aleatorios\n",
        "e = np.random.random(5)\n",
        "print(e)"
      ],
      "metadata": {
        "colab": {
          "base_uri": "https://localhost:8080/"
        },
        "id": "eUDseSsD06NM",
        "outputId": "73148bf4-4b6a-4bad-ca8a-aff5d60b32e1"
      },
      "execution_count": 13,
      "outputs": [
        {
          "output_type": "stream",
          "name": "stdout",
          "text": [
            "[0.75048461 0.24111989 0.13261241 0.9065174  0.42607042]\n"
          ]
        }
      ]
    },
    {
      "cell_type": "code",
      "source": [
        "#matriz bidimencional\n",
        "f = np.array([[17, 22, 43], [27, 25, 14], [15, 24, 32]])\n",
        "print(f)\n",
        "#exibe elemento especifico\n",
        "print(f[0][1])\n",
        "\n",
        "#exibe tamanho das dimencoes da matriz f\n",
        "print(f.shape)\n",
        "\n",
        "#valor maximo da matriz\n",
        "print(f.max())\n",
        "\n",
        "#valor minimo da matriz\n",
        "print(f.min())\n",
        "\n",
        "#soma dos valores\n",
        "print((f.sum()))\n",
        "\n",
        "#valor medio\n",
        "print(f.mean())\n",
        "\n",
        "#desvio padrao - standard deviation\n",
        "print(f.std())"
      ],
      "metadata": {
        "colab": {
          "base_uri": "https://localhost:8080/"
        },
        "id": "7KuFn2dP10Yo",
        "outputId": "3e6fd90e-1460-4719-caa7-1837284510ae"
      },
      "execution_count": 15,
      "outputs": [
        {
          "output_type": "stream",
          "name": "stdout",
          "text": [
            "[[17 22 43]\n",
            " [27 25 14]\n",
            " [15 24 32]]\n",
            "22\n",
            "(3, 3)\n",
            "43\n",
            "14\n",
            "219\n",
            "24.333333333333332\n",
            "8.615231988880057\n"
          ]
        }
      ]
    },
    {
      "cell_type": "code",
      "source": [],
      "metadata": {
        "id": "yGKPs26u10Xp"
      },
      "execution_count": null,
      "outputs": []
    }
  ]
}