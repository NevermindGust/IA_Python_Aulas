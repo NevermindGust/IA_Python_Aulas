{
  "nbformat": 4,
  "nbformat_minor": 0,
  "metadata": {
    "colab": {
      "provenance": [],
      "authorship_tag": "ABX9TyM5dXROhnGuxuxypLYGLbrq",
      "include_colab_link": true
    },
    "kernelspec": {
      "name": "python3",
      "display_name": "Python 3"
    },
    "language_info": {
      "name": "python"
    }
  },
  "cells": [
    {
      "cell_type": "markdown",
      "metadata": {
        "id": "view-in-github",
        "colab_type": "text"
      },
      "source": [
        "<a href=\"https://colab.research.google.com/github/NevermindGust/IA_Python_Aulas/blob/main/aula4.ipynb\" target=\"_parent\"><img src=\"https://colab.research.google.com/assets/colab-badge.svg\" alt=\"Open In Colab\"/></a>"
      ]
    },
    {
      "cell_type": "code",
      "source": [
        "import pandas as pd"
      ],
      "metadata": {
        "id": "7KsIdmQG2fnZ"
      },
      "execution_count": 1,
      "outputs": []
    },
    {
      "cell_type": "code",
      "execution_count": null,
      "metadata": {
        "id": "O1IAO0hQt-Y8"
      },
      "outputs": [],
      "source": [
        "from google.colab import files\n",
        "uploaded = files.upload()"
      ]
    },
    {
      "cell_type": "code",
      "source": [
        "!ls\n",
        "\n",
        "for fn in uploaded.keys():\n",
        "  print('Arquivo \"{name}\" com tamanho de {lenght} bytes'.format(name=fn, lenght=len(uploaded[fn])))"
      ],
      "metadata": {
        "id": "g_1-m-AS3HrB"
      },
      "execution_count": null,
      "outputs": []
    },
    {
      "cell_type": "code",
      "source": [
        "enade = pd.read_excel('enade2017.xlsx')\n",
        "#mostra a estrutura da tabela\n",
        "enade.shape"
      ],
      "metadata": {
        "colab": {
          "base_uri": "https://localhost:8080/"
        },
        "id": "4s-0nqzW3P1J",
        "outputId": "236ff572-546a-4c5c-c8c7-c90b9e842cac"
      },
      "execution_count": 11,
      "outputs": [
        {
          "output_type": "execute_result",
          "data": {
            "text/plain": [
              "(1695, 21)"
            ]
          },
          "metadata": {},
          "execution_count": 11
        }
      ]
    },
    {
      "cell_type": "code",
      "source": [
        "enade.head(5)"
      ],
      "metadata": {
        "colab": {
          "base_uri": "https://localhost:8080/",
          "height": 499
        },
        "id": "f7dGc-JO3aGw",
        "outputId": "c47a63cb-08a7-4a50-884a-24c241cf24bf"
      },
      "execution_count": 15,
      "outputs": [
        {
          "output_type": "execute_result",
          "data": {
            "text/plain": [
              "    Ano  Código da Área                    Área de Avaliação  Código da IES  \\\n",
              "0  2017            4004  CIÊNCIA DA COMPUTAÇÃO (BACHARELADO)            550   \n",
              "1  2017            4004  CIÊNCIA DA COMPUTAÇÃO (BACHARELADO)           1066   \n",
              "2  2017            4004  CIÊNCIA DA COMPUTAÇÃO (BACHARELADO)           2676   \n",
              "3  2017            4004  CIÊNCIA DA COMPUTAÇÃO (BACHARELADO)           4656   \n",
              "4  2017            4004  CIÊNCIA DA COMPUTAÇÃO (BACHARELADO)            575   \n",
              "\n",
              "                               Nome da IES Sigla da IES Organização Acadêmica  \\\n",
              "0         UNIVERSIDADE ESTADUAL DA PARAÍBA         UEPB          Universidade   \n",
              "1  INSTITUTO DE ENSINO E PESQUISA OBJETIVO         IEPO             Faculdade   \n",
              "2                       FACULDADE LA SALLE          NaN             Faculdade   \n",
              "3       FACULDADE ANHANGÜERA DE PIRACICABA          NaN             Faculdade   \n",
              "4     UNIVERSIDADE FEDERAL DE MINAS GERAIS         UFMG          Universidade   \n",
              "\n",
              "      Categoria Administrativa  Código do Curso Modalidade de Ensino  ...  \\\n",
              "0             Pública Estadual          1265453  Educação Presencial  ...   \n",
              "1  Privada com fins lucrativos            58808  Educação Presencial  ...   \n",
              "2  Privada sem fins lucrativos            73438  Educação Presencial  ...   \n",
              "3  Privada com fins lucrativos           104836  Educação Presencial  ...   \n",
              "4              Pública Federal            12946  Educação Presencial  ...   \n",
              "\n",
              "   Município do Curso Sigla da UF Nº de Concluintes Inscritos  \\\n",
              "0               Patos          PB                          27   \n",
              "1              Palmas          TO                           1   \n",
              "2              Manaus          AM                          45   \n",
              "3          Piracicaba          SP                           2   \n",
              "4      Belo Horizonte          MG                          79   \n",
              "\n",
              "   Nº  de Concluintes Participantes  Nota Bruta - FG  Nota Padronizada - FG  \\\n",
              "0                                 1        48.300000                    NaN   \n",
              "1                                 0              NaN                    NaN   \n",
              "2                                 6              NaN                    NaN   \n",
              "3                                 1        49.400000                    NaN   \n",
              "4                                72        64.683333               4.526723   \n",
              "\n",
              "   Nota Bruta - CE  Nota Padronizada - CE  Conceito Enade (Contínuo)  \\\n",
              "0        31.300000                    NaN                        NaN   \n",
              "1              NaN                    NaN                        NaN   \n",
              "2              NaN                    NaN                        NaN   \n",
              "3        39.900000                    NaN                        NaN   \n",
              "4        59.127778                    5.0                   4.881681   \n",
              "\n",
              "   Conceito Enade (Faixa)  \n",
              "0                      SC  \n",
              "1                      SC  \n",
              "2                      SC  \n",
              "3                      SC  \n",
              "4                       5  \n",
              "\n",
              "[5 rows x 21 columns]"
            ],
            "text/html": [
              "\n",
              "  <div id=\"df-8b8571b7-29d5-4d58-9a79-a53ab44c2eb6\" class=\"colab-df-container\">\n",
              "    <div>\n",
              "<style scoped>\n",
              "    .dataframe tbody tr th:only-of-type {\n",
              "        vertical-align: middle;\n",
              "    }\n",
              "\n",
              "    .dataframe tbody tr th {\n",
              "        vertical-align: top;\n",
              "    }\n",
              "\n",
              "    .dataframe thead th {\n",
              "        text-align: right;\n",
              "    }\n",
              "</style>\n",
              "<table border=\"1\" class=\"dataframe\">\n",
              "  <thead>\n",
              "    <tr style=\"text-align: right;\">\n",
              "      <th></th>\n",
              "      <th>Ano</th>\n",
              "      <th>Código da Área</th>\n",
              "      <th>Área de Avaliação</th>\n",
              "      <th>Código da IES</th>\n",
              "      <th>Nome da IES</th>\n",
              "      <th>Sigla da IES</th>\n",
              "      <th>Organização Acadêmica</th>\n",
              "      <th>Categoria Administrativa</th>\n",
              "      <th>Código do Curso</th>\n",
              "      <th>Modalidade de Ensino</th>\n",
              "      <th>...</th>\n",
              "      <th>Município do Curso</th>\n",
              "      <th>Sigla da UF</th>\n",
              "      <th>Nº de Concluintes Inscritos</th>\n",
              "      <th>Nº  de Concluintes Participantes</th>\n",
              "      <th>Nota Bruta - FG</th>\n",
              "      <th>Nota Padronizada - FG</th>\n",
              "      <th>Nota Bruta - CE</th>\n",
              "      <th>Nota Padronizada - CE</th>\n",
              "      <th>Conceito Enade (Contínuo)</th>\n",
              "      <th>Conceito Enade (Faixa)</th>\n",
              "    </tr>\n",
              "  </thead>\n",
              "  <tbody>\n",
              "    <tr>\n",
              "      <th>0</th>\n",
              "      <td>2017</td>\n",
              "      <td>4004</td>\n",
              "      <td>CIÊNCIA DA COMPUTAÇÃO (BACHARELADO)</td>\n",
              "      <td>550</td>\n",
              "      <td>UNIVERSIDADE ESTADUAL DA PARAÍBA</td>\n",
              "      <td>UEPB</td>\n",
              "      <td>Universidade</td>\n",
              "      <td>Pública Estadual</td>\n",
              "      <td>1265453</td>\n",
              "      <td>Educação Presencial</td>\n",
              "      <td>...</td>\n",
              "      <td>Patos</td>\n",
              "      <td>PB</td>\n",
              "      <td>27</td>\n",
              "      <td>1</td>\n",
              "      <td>48.300000</td>\n",
              "      <td>NaN</td>\n",
              "      <td>31.300000</td>\n",
              "      <td>NaN</td>\n",
              "      <td>NaN</td>\n",
              "      <td>SC</td>\n",
              "    </tr>\n",
              "    <tr>\n",
              "      <th>1</th>\n",
              "      <td>2017</td>\n",
              "      <td>4004</td>\n",
              "      <td>CIÊNCIA DA COMPUTAÇÃO (BACHARELADO)</td>\n",
              "      <td>1066</td>\n",
              "      <td>INSTITUTO DE ENSINO E PESQUISA OBJETIVO</td>\n",
              "      <td>IEPO</td>\n",
              "      <td>Faculdade</td>\n",
              "      <td>Privada com fins lucrativos</td>\n",
              "      <td>58808</td>\n",
              "      <td>Educação Presencial</td>\n",
              "      <td>...</td>\n",
              "      <td>Palmas</td>\n",
              "      <td>TO</td>\n",
              "      <td>1</td>\n",
              "      <td>0</td>\n",
              "      <td>NaN</td>\n",
              "      <td>NaN</td>\n",
              "      <td>NaN</td>\n",
              "      <td>NaN</td>\n",
              "      <td>NaN</td>\n",
              "      <td>SC</td>\n",
              "    </tr>\n",
              "    <tr>\n",
              "      <th>2</th>\n",
              "      <td>2017</td>\n",
              "      <td>4004</td>\n",
              "      <td>CIÊNCIA DA COMPUTAÇÃO (BACHARELADO)</td>\n",
              "      <td>2676</td>\n",
              "      <td>FACULDADE LA SALLE</td>\n",
              "      <td>NaN</td>\n",
              "      <td>Faculdade</td>\n",
              "      <td>Privada sem fins lucrativos</td>\n",
              "      <td>73438</td>\n",
              "      <td>Educação Presencial</td>\n",
              "      <td>...</td>\n",
              "      <td>Manaus</td>\n",
              "      <td>AM</td>\n",
              "      <td>45</td>\n",
              "      <td>6</td>\n",
              "      <td>NaN</td>\n",
              "      <td>NaN</td>\n",
              "      <td>NaN</td>\n",
              "      <td>NaN</td>\n",
              "      <td>NaN</td>\n",
              "      <td>SC</td>\n",
              "    </tr>\n",
              "    <tr>\n",
              "      <th>3</th>\n",
              "      <td>2017</td>\n",
              "      <td>4004</td>\n",
              "      <td>CIÊNCIA DA COMPUTAÇÃO (BACHARELADO)</td>\n",
              "      <td>4656</td>\n",
              "      <td>FACULDADE ANHANGÜERA DE PIRACICABA</td>\n",
              "      <td>NaN</td>\n",
              "      <td>Faculdade</td>\n",
              "      <td>Privada com fins lucrativos</td>\n",
              "      <td>104836</td>\n",
              "      <td>Educação Presencial</td>\n",
              "      <td>...</td>\n",
              "      <td>Piracicaba</td>\n",
              "      <td>SP</td>\n",
              "      <td>2</td>\n",
              "      <td>1</td>\n",
              "      <td>49.400000</td>\n",
              "      <td>NaN</td>\n",
              "      <td>39.900000</td>\n",
              "      <td>NaN</td>\n",
              "      <td>NaN</td>\n",
              "      <td>SC</td>\n",
              "    </tr>\n",
              "    <tr>\n",
              "      <th>4</th>\n",
              "      <td>2017</td>\n",
              "      <td>4004</td>\n",
              "      <td>CIÊNCIA DA COMPUTAÇÃO (BACHARELADO)</td>\n",
              "      <td>575</td>\n",
              "      <td>UNIVERSIDADE FEDERAL DE MINAS GERAIS</td>\n",
              "      <td>UFMG</td>\n",
              "      <td>Universidade</td>\n",
              "      <td>Pública Federal</td>\n",
              "      <td>12946</td>\n",
              "      <td>Educação Presencial</td>\n",
              "      <td>...</td>\n",
              "      <td>Belo Horizonte</td>\n",
              "      <td>MG</td>\n",
              "      <td>79</td>\n",
              "      <td>72</td>\n",
              "      <td>64.683333</td>\n",
              "      <td>4.526723</td>\n",
              "      <td>59.127778</td>\n",
              "      <td>5.0</td>\n",
              "      <td>4.881681</td>\n",
              "      <td>5</td>\n",
              "    </tr>\n",
              "  </tbody>\n",
              "</table>\n",
              "<p>5 rows × 21 columns</p>\n",
              "</div>\n",
              "    <div class=\"colab-df-buttons\">\n",
              "\n",
              "  <div class=\"colab-df-container\">\n",
              "    <button class=\"colab-df-convert\" onclick=\"convertToInteractive('df-8b8571b7-29d5-4d58-9a79-a53ab44c2eb6')\"\n",
              "            title=\"Convert this dataframe to an interactive table.\"\n",
              "            style=\"display:none;\">\n",
              "\n",
              "  <svg xmlns=\"http://www.w3.org/2000/svg\" height=\"24px\" viewBox=\"0 -960 960 960\">\n",
              "    <path d=\"M120-120v-720h720v720H120Zm60-500h600v-160H180v160Zm220 220h160v-160H400v160Zm0 220h160v-160H400v160ZM180-400h160v-160H180v160Zm440 0h160v-160H620v160ZM180-180h160v-160H180v160Zm440 0h160v-160H620v160Z\"/>\n",
              "  </svg>\n",
              "    </button>\n",
              "\n",
              "  <style>\n",
              "    .colab-df-container {\n",
              "      display:flex;\n",
              "      gap: 12px;\n",
              "    }\n",
              "\n",
              "    .colab-df-convert {\n",
              "      background-color: #E8F0FE;\n",
              "      border: none;\n",
              "      border-radius: 50%;\n",
              "      cursor: pointer;\n",
              "      display: none;\n",
              "      fill: #1967D2;\n",
              "      height: 32px;\n",
              "      padding: 0 0 0 0;\n",
              "      width: 32px;\n",
              "    }\n",
              "\n",
              "    .colab-df-convert:hover {\n",
              "      background-color: #E2EBFA;\n",
              "      box-shadow: 0px 1px 2px rgba(60, 64, 67, 0.3), 0px 1px 3px 1px rgba(60, 64, 67, 0.15);\n",
              "      fill: #174EA6;\n",
              "    }\n",
              "\n",
              "    .colab-df-buttons div {\n",
              "      margin-bottom: 4px;\n",
              "    }\n",
              "\n",
              "    [theme=dark] .colab-df-convert {\n",
              "      background-color: #3B4455;\n",
              "      fill: #D2E3FC;\n",
              "    }\n",
              "\n",
              "    [theme=dark] .colab-df-convert:hover {\n",
              "      background-color: #434B5C;\n",
              "      box-shadow: 0px 1px 3px 1px rgba(0, 0, 0, 0.15);\n",
              "      filter: drop-shadow(0px 1px 2px rgba(0, 0, 0, 0.3));\n",
              "      fill: #FFFFFF;\n",
              "    }\n",
              "  </style>\n",
              "\n",
              "    <script>\n",
              "      const buttonEl =\n",
              "        document.querySelector('#df-8b8571b7-29d5-4d58-9a79-a53ab44c2eb6 button.colab-df-convert');\n",
              "      buttonEl.style.display =\n",
              "        google.colab.kernel.accessAllowed ? 'block' : 'none';\n",
              "\n",
              "      async function convertToInteractive(key) {\n",
              "        const element = document.querySelector('#df-8b8571b7-29d5-4d58-9a79-a53ab44c2eb6');\n",
              "        const dataTable =\n",
              "          await google.colab.kernel.invokeFunction('convertToInteractive',\n",
              "                                                    [key], {});\n",
              "        if (!dataTable) return;\n",
              "\n",
              "        const docLinkHtml = 'Like what you see? Visit the ' +\n",
              "          '<a target=\"_blank\" href=https://colab.research.google.com/notebooks/data_table.ipynb>data table notebook</a>'\n",
              "          + ' to learn more about interactive tables.';\n",
              "        element.innerHTML = '';\n",
              "        dataTable['output_type'] = 'display_data';\n",
              "        await google.colab.output.renderOutput(dataTable, element);\n",
              "        const docLink = document.createElement('div');\n",
              "        docLink.innerHTML = docLinkHtml;\n",
              "        element.appendChild(docLink);\n",
              "      }\n",
              "    </script>\n",
              "  </div>\n",
              "\n",
              "\n",
              "<div id=\"df-23a82fa5-0041-42f2-83e4-52e15b04c18b\">\n",
              "  <button class=\"colab-df-quickchart\" onclick=\"quickchart('df-23a82fa5-0041-42f2-83e4-52e15b04c18b')\"\n",
              "            title=\"Suggest charts\"\n",
              "            style=\"display:none;\">\n",
              "\n",
              "<svg xmlns=\"http://www.w3.org/2000/svg\" height=\"24px\"viewBox=\"0 0 24 24\"\n",
              "     width=\"24px\">\n",
              "    <g>\n",
              "        <path d=\"M19 3H5c-1.1 0-2 .9-2 2v14c0 1.1.9 2 2 2h14c1.1 0 2-.9 2-2V5c0-1.1-.9-2-2-2zM9 17H7v-7h2v7zm4 0h-2V7h2v10zm4 0h-2v-4h2v4z\"/>\n",
              "    </g>\n",
              "</svg>\n",
              "  </button>\n",
              "\n",
              "<style>\n",
              "  .colab-df-quickchart {\n",
              "      --bg-color: #E8F0FE;\n",
              "      --fill-color: #1967D2;\n",
              "      --hover-bg-color: #E2EBFA;\n",
              "      --hover-fill-color: #174EA6;\n",
              "      --disabled-fill-color: #AAA;\n",
              "      --disabled-bg-color: #DDD;\n",
              "  }\n",
              "\n",
              "  [theme=dark] .colab-df-quickchart {\n",
              "      --bg-color: #3B4455;\n",
              "      --fill-color: #D2E3FC;\n",
              "      --hover-bg-color: #434B5C;\n",
              "      --hover-fill-color: #FFFFFF;\n",
              "      --disabled-bg-color: #3B4455;\n",
              "      --disabled-fill-color: #666;\n",
              "  }\n",
              "\n",
              "  .colab-df-quickchart {\n",
              "    background-color: var(--bg-color);\n",
              "    border: none;\n",
              "    border-radius: 50%;\n",
              "    cursor: pointer;\n",
              "    display: none;\n",
              "    fill: var(--fill-color);\n",
              "    height: 32px;\n",
              "    padding: 0;\n",
              "    width: 32px;\n",
              "  }\n",
              "\n",
              "  .colab-df-quickchart:hover {\n",
              "    background-color: var(--hover-bg-color);\n",
              "    box-shadow: 0 1px 2px rgba(60, 64, 67, 0.3), 0 1px 3px 1px rgba(60, 64, 67, 0.15);\n",
              "    fill: var(--button-hover-fill-color);\n",
              "  }\n",
              "\n",
              "  .colab-df-quickchart-complete:disabled,\n",
              "  .colab-df-quickchart-complete:disabled:hover {\n",
              "    background-color: var(--disabled-bg-color);\n",
              "    fill: var(--disabled-fill-color);\n",
              "    box-shadow: none;\n",
              "  }\n",
              "\n",
              "  .colab-df-spinner {\n",
              "    border: 2px solid var(--fill-color);\n",
              "    border-color: transparent;\n",
              "    border-bottom-color: var(--fill-color);\n",
              "    animation:\n",
              "      spin 1s steps(1) infinite;\n",
              "  }\n",
              "\n",
              "  @keyframes spin {\n",
              "    0% {\n",
              "      border-color: transparent;\n",
              "      border-bottom-color: var(--fill-color);\n",
              "      border-left-color: var(--fill-color);\n",
              "    }\n",
              "    20% {\n",
              "      border-color: transparent;\n",
              "      border-left-color: var(--fill-color);\n",
              "      border-top-color: var(--fill-color);\n",
              "    }\n",
              "    30% {\n",
              "      border-color: transparent;\n",
              "      border-left-color: var(--fill-color);\n",
              "      border-top-color: var(--fill-color);\n",
              "      border-right-color: var(--fill-color);\n",
              "    }\n",
              "    40% {\n",
              "      border-color: transparent;\n",
              "      border-right-color: var(--fill-color);\n",
              "      border-top-color: var(--fill-color);\n",
              "    }\n",
              "    60% {\n",
              "      border-color: transparent;\n",
              "      border-right-color: var(--fill-color);\n",
              "    }\n",
              "    80% {\n",
              "      border-color: transparent;\n",
              "      border-right-color: var(--fill-color);\n",
              "      border-bottom-color: var(--fill-color);\n",
              "    }\n",
              "    90% {\n",
              "      border-color: transparent;\n",
              "      border-bottom-color: var(--fill-color);\n",
              "    }\n",
              "  }\n",
              "</style>\n",
              "\n",
              "  <script>\n",
              "    async function quickchart(key) {\n",
              "      const quickchartButtonEl =\n",
              "        document.querySelector('#' + key + ' button');\n",
              "      quickchartButtonEl.disabled = true;  // To prevent multiple clicks.\n",
              "      quickchartButtonEl.classList.add('colab-df-spinner');\n",
              "      try {\n",
              "        const charts = await google.colab.kernel.invokeFunction(\n",
              "            'suggestCharts', [key], {});\n",
              "      } catch (error) {\n",
              "        console.error('Error during call to suggestCharts:', error);\n",
              "      }\n",
              "      quickchartButtonEl.classList.remove('colab-df-spinner');\n",
              "      quickchartButtonEl.classList.add('colab-df-quickchart-complete');\n",
              "    }\n",
              "    (() => {\n",
              "      let quickchartButtonEl =\n",
              "        document.querySelector('#df-23a82fa5-0041-42f2-83e4-52e15b04c18b button');\n",
              "      quickchartButtonEl.style.display =\n",
              "        google.colab.kernel.accessAllowed ? 'block' : 'none';\n",
              "    })();\n",
              "  </script>\n",
              "</div>\n",
              "\n",
              "    </div>\n",
              "  </div>\n"
            ],
            "application/vnd.google.colaboratory.intrinsic+json": {
              "type": "dataframe",
              "variable_name": "enade"
            }
          },
          "metadata": {},
          "execution_count": 15
        }
      ]
    },
    {
      "cell_type": "code",
      "source": [
        "enade.describe()"
      ],
      "metadata": {
        "id": "2C3uPa14407I"
      },
      "execution_count": null,
      "outputs": []
    },
    {
      "cell_type": "code",
      "source": [
        "import matplotlib.pyplot as plt"
      ],
      "metadata": {
        "id": "cOnYDErv5A0v"
      },
      "execution_count": 8,
      "outputs": []
    },
    {
      "cell_type": "code",
      "source": [
        "#histograma - grafico de barras\n",
        "enade.hist(column='Nº de Concluintes Inscritos',bins = 30)\n",
        "plt.show()"
      ],
      "metadata": {
        "id": "tmdTayCe5S46"
      },
      "execution_count": null,
      "outputs": []
    },
    {
      "cell_type": "code",
      "source": [
        "enade.hist(column='Nota Padronizada - FG',bins = 30)\n",
        "plt.show()"
      ],
      "metadata": {
        "id": "SD_tx-ud6XbP"
      },
      "execution_count": null,
      "outputs": []
    },
    {
      "cell_type": "code",
      "source": [
        "enade.hist(column='Conceito Enade (Contínuo)',bins = 100)\n",
        "plt.show()"
      ],
      "metadata": {
        "id": "2F5HcBxI6t6f"
      },
      "execution_count": null,
      "outputs": []
    },
    {
      "cell_type": "code",
      "source": [
        "x = [1, 2, 3, 4, 5, 6, 7, 8, 9, 10]\n",
        "y = []\n",
        "\n",
        "#preenche os valores de y com x^2\n",
        "for i in x:\n",
        "  y.append(i**2)\n",
        "\n",
        "print (y)"
      ],
      "metadata": {
        "colab": {
          "base_uri": "https://localhost:8080/"
        },
        "id": "FrqZaj6d6_FW",
        "outputId": "74777523-4cde-4c44-dca0-50526185f312"
      },
      "execution_count": 19,
      "outputs": [
        {
          "output_type": "stream",
          "name": "stdout",
          "text": [
            "[1, 4, 9, 16, 25, 36, 49, 64, 81, 100]\n"
          ]
        }
      ]
    },
    {
      "cell_type": "code",
      "source": [
        "#scatter - grafico de disperção\n",
        "plt.scatter(x, y)\n",
        "plt.show()"
      ],
      "metadata": {
        "id": "yxgrnseI78tP"
      },
      "execution_count": null,
      "outputs": []
    },
    {
      "cell_type": "code",
      "source": [
        "import numpy as np\n",
        "\n",
        "#valores de -1000 a 1000 com o passo de 1\n",
        "x2 = np.arange(-1000, 1000, 1)\n",
        "\n",
        "#plota uma parabola\n",
        "plt.plot(x2, x2**2)\n",
        "plt.show()\n"
      ],
      "metadata": {
        "id": "qYiWfriF8Q7P"
      },
      "execution_count": null,
      "outputs": []
    },
    {
      "cell_type": "code",
      "source": [
        "escolasp = enade.loc[enade['Sigla da UF']=='SP']\n",
        "escolasp.head(5)"
      ],
      "metadata": {
        "id": "VYIjOARVAe4Y"
      },
      "execution_count": null,
      "outputs": []
    },
    {
      "cell_type": "code",
      "source": [
        "nconcluintes = escolasp['Nº de Concluintes Inscritos']\n",
        "nota = escolasp['Nota Padronizada - CE']"
      ],
      "metadata": {
        "id": "gRasDv9nFe8D"
      },
      "execution_count": 25,
      "outputs": []
    },
    {
      "cell_type": "code",
      "source": [
        "plt.scatter(nconcluintes, nota)\n",
        "plt.show()"
      ],
      "metadata": {
        "colab": {
          "base_uri": "https://localhost:8080/",
          "height": 430
        },
        "id": "jC1lj7SnFzX6",
        "outputId": "7e77054e-57f0-4287-f0bc-ed99ad50d25c"
      },
      "execution_count": 26,
      "outputs": [
        {
          "output_type": "display_data",
          "data": {
            "text/plain": [
              "<Figure size 640x480 with 1 Axes>"
            ],
            "image/png": "[encoded data removed]"
          },
          "metadata": {}
        }
      ]
    },
    {
      "cell_type": "code",
      "source": [
        "plt.scatter(nota, nconcluintes)\n",
        "plt.show()"
      ],
      "metadata": {
        "colab": {
          "base_uri": "https://localhost:8080/",
          "height": 430
        },
        "id": "t6kkXSX3Gx7q",
        "outputId": "4c90110c-73ed-4cb2-aa45-81616d055e63"
      },
      "execution_count": 27,
      "outputs": [
        {
          "output_type": "display_data",
          "data": {
            "text/plain": [
              "<Figure size 640x480 with 1 Axes>"
            ],
            "image/png": "[encoded data removed]"
          },
          "metadata": {}
        }
      ]
    },
    {
      "cell_type": "code",
      "source": [
        "nparticipantes = escolasp['Nº de Concluintes Inscritos']\n",
        "plt.scatter(nparticipantes, nconcluintes)\n",
        "plt.show()"
      ],
      "metadata": {
        "colab": {
          "base_uri": "https://localhost:8080/",
          "height": 430
        },
        "id": "x7D-rSAWIRW7",
        "outputId": "67f2dbd3-decd-43b1-b2ef-f4adeb88904d"
      },
      "execution_count": 29,
      "outputs": [
        {
          "output_type": "display_data",
          "data": {
            "text/plain": [
              "<Figure size 640x480 with 1 Axes>"
            ],
            "image/png": "[encoded data removed]"
          },
          "metadata": {}
        }
      ]
    }
  ]
}