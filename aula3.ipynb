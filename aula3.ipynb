{
  "nbformat": 4,
  "nbformat_minor": 0,
  "metadata": {
    "colab": {
      "provenance": [],
      "authorship_tag": "ABX9TyOaKWc1OgbbsDpzRLeUUgdP",
      "include_colab_link": true
    },
    "kernelspec": {
      "name": "python3",
      "display_name": "Python 3"
    },
    "language_info": {
      "name": "python"
    }
  },
  "cells": [
    {
      "cell_type": "markdown",
      "metadata": {
        "id": "view-in-github",
        "colab_type": "text"
      },
      "source": [
        "<a href=\"https://colab.research.google.com/github/NevermindGust/IA_Python_Aulas/blob/main/aula3.ipynb\" target=\"_parent\"><img src=\"https://colab.research.google.com/assets/colab-badge.svg\" alt=\"Open In Colab\"/></a>"
      ]
    },
    {
      "cell_type": "code",
      "execution_count": null,
      "metadata": {
        "id": "5wpixZSAnET9"
      },
      "outputs": [],
      "source": [
        "#estrutura For - descubra a soma de S = 1+4+7+10+13+16+19\n",
        "\n",
        "S=0\n",
        "for x in range(1, 20, 3):\n",
        "  S = S + x\n",
        "\n",
        "print ('A soma é: ', S)"
      ]
    },
    {
      "cell_type": "code",
      "source": [
        "#listas\n",
        "\n",
        "lista_notas = [3.4, 6.6, 8, 9, 10, 9.5, 8.8, 4.3]\n",
        "\n",
        "soma=0\n",
        "for nota in lista_notas:\n",
        "  soma = soma + nota\n",
        "\n",
        "media = soma / len(lista_notas)\n",
        "print('Média = ', '{:.2f}'.format(media))"
      ],
      "metadata": {
        "id": "jVX5NZduu-uT"
      },
      "execution_count": null,
      "outputs": []
    },
    {
      "cell_type": "code",
      "source": [
        "#lista + função\n",
        "\n",
        "def calc_media(lista):\n",
        "  soma=0\n",
        "  for nota in lista:\n",
        "    soma = soma + nota\n",
        "  return soma/len(lista)\n",
        "\n",
        "lista_notas = [3.4, 6.6, 8, 9, 10, 9.5, 8.8, 4.3]\n",
        "media = calc_media(lista_notas)\n",
        "print('Média = ', '{:.2f}'.format(media))"
      ],
      "metadata": {
        "id": "eEQD6wG4ychj"
      },
      "execution_count": null,
      "outputs": []
    },
    {
      "cell_type": "code",
      "source": [
        "#função que cria uma lista com 5 elementos\n",
        "\n",
        "def leitura(lista, qtd):\n",
        "  for i in range(1, qtd+1):\n",
        "    lista.append(int(input('Digite o valor do elemento ')))\n",
        "\n",
        "lista_notas = []\n",
        "leitura(lista_notas, 5)\n",
        "print(lista_notas)"
      ],
      "metadata": {
        "colab": {
          "base_uri": "https://localhost:8080/"
        },
        "id": "035EyUhRzUzP",
        "outputId": "2f8b450c-ec19-4198-e9ed-e1e2b30b976f"
      },
      "execution_count": 12,
      "outputs": [
        {
          "output_type": "stream",
          "name": "stdout",
          "text": [
            "Digite o valor do elemento 3\n",
            "Digite o valor do elemento 15\n",
            "Digite o valor do elemento 15\n",
            "Digite o valor do elemento 15\n",
            "Digite o valor do elemento 78\n",
            "[3, 15, 15, 15, 78]\n"
          ]
        }
      ]
    }
  ]
}