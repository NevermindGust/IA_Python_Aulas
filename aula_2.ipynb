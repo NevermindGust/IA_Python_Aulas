{
  "nbformat": 4,
  "nbformat_minor": 0,
  "metadata": {
    "colab": {
      "provenance": [],
      "authorship_tag": "ABX9TyPZfQfTjwf5olZpFndverkX",
      "include_colab_link": true
    },
    "kernelspec": {
      "name": "python3",
      "display_name": "Python 3"
    },
    "language_info": {
      "name": "python"
    }
  },
  "cells": [
    {
      "cell_type": "markdown",
      "metadata": {
        "id": "view-in-github",
        "colab_type": "text"
      },
      "source": [
        "<a href=\"https://colab.research.google.com/github/NevermindGust/IA_Python_Aulas/blob/main/aula_2.ipynb\" target=\"_parent\"><img src=\"https://colab.research.google.com/assets/colab-badge.svg\" alt=\"Open In Colab\"/></a>"
      ]
    },
    {
      "cell_type": "code",
      "execution_count": null,
      "metadata": {
        "id": "PdSNkHYIlV7O"
      },
      "outputs": [],
      "source": [
        "# if/else\n",
        "\n",
        "nota = float(input(\"Digite sua nota: \"))\n",
        "if nota < 70:\n",
        " print('Reprovado')\n",
        "else:\n",
        "  print('Aprovado')"
      ]
    },
    {
      "cell_type": "code",
      "source": [
        "#programa que solicite dois numeros e aponte qual é o maior\n",
        "\n",
        "#variaveis\n",
        "x=input(\"Digite o primeiro numero: \")\n",
        "y=input(\"Digite o segundo numero: \")\n",
        "\n",
        "#comparador if/else\n",
        "if x > y and x != y:\n",
        "  print(\"O primeiro valor é o maior\")\n",
        "elif x < y and x != y:\n",
        "  print(\"O segundo valor é o maior\")\n",
        "else:\n",
        "  print(\"Os valores são iguais\")\n",
        "\n"
      ],
      "metadata": {
        "id": "_N8OOVOEuSs2"
      },
      "execution_count": null,
      "outputs": []
    },
    {
      "cell_type": "code",
      "source": [
        "#if / elif / else\n",
        "\n",
        "idade = int(input(\"Digite sua idade: \"))\n",
        "\n",
        "if idade < 3:\n",
        "  print('Bebe')\n",
        "elif idade < 10:\n",
        "  print('Infantil')\n",
        "elif idade < 14:\n",
        "  print('Junior')\n",
        "elif idade < 18:\n",
        "  print('Adolecente')\n",
        "elif idade < 30:\n",
        "  print('Jovem')\n",
        "else:\n",
        "  print('Adulto')"
      ],
      "metadata": {
        "id": "DFkFpFDO3wZB"
      },
      "execution_count": null,
      "outputs": []
    },
    {
      "cell_type": "code",
      "source": [
        "#contador e somador *EM PROGRESSO*\n",
        "\n",
        "contador = 0\n",
        "somador = 0\n",
        "\n",
        "while contador < 5:\n",
        "  contador+=\n",
        "  valor = float(input('Digite o '+str(contador)+'° valor'))\n",
        "  somador+="
      ],
      "metadata": {
        "id": "tkpaKXpU-PkD"
      },
      "execution_count": null,
      "outputs": []
    },
    {
      "cell_type": "code",
      "source": [
        "#while e import\n",
        "import sys\n",
        "\n",
        "#variaveis\n",
        "senha = \"1316\"\n",
        "leitura = \" \"\n",
        "tentativas = 4\n",
        "\n",
        "while (leitura != senha):\n",
        "  leitura = input(\"Digite sua senha: \")\n",
        "  if leitura == senha:\n",
        "    print('Acesso liberado')\n",
        "  else:\n",
        "    tentativas -= 1\n",
        "    print('Senha incorreta. Voce tem ', tentativas, 'restantes')\n",
        "    if tentativas == 0:\n",
        "      sys.exit()\n",
        ""
      ],
      "metadata": {
        "id": "JquHFFFT6fsW"
      },
      "execution_count": null,
      "outputs": []
    },
    {
      "cell_type": "code",
      "source": [
        "#calculadora de Indice de Massa Corporal\n",
        "\n",
        "def IMC (m, h):\n",
        "  imc = (m/(h*h))*(10**4)\n",
        "  return imc\n",
        "\n",
        "m = float(input(\"Indique sua massa em Kg: \"))\n",
        "h = int(input(\"Indique sua massa em cm: \"))\n",
        "\n",
        "IMC(m, h)\n",
        "\n",
        "if IMC(m, h) <= 18.5:\n",
        "  print('Sua classificaçao segundo seu IMC - Magreza')\n",
        "elif IMC(m, h) > 18.5 and IMC(m,h) < 25:\n",
        "  print('Sua classificaçao segundo seu IMC - Normal')\n",
        "elif IMC(m, h) >= 25 and IMC(m,h) < 30:\n",
        "  print('Sua classificaçao segundo seu IMC - Sobrepeso')\n",
        "elif IMC(m, h) >= 30 and IMC(m,h) < 40:\n",
        "  print('Sua classificaçao segundo seu IMC - Obesidade')\n",
        "elif IMC(m, h) >= 40:\n",
        "  print('Sua classificaçao segundo seu IMC - Obesidade Grave')\n"
      ],
      "metadata": {
        "id": "a0qNbPuX_q4D"
      },
      "execution_count": null,
      "outputs": []
    }
  ]
}